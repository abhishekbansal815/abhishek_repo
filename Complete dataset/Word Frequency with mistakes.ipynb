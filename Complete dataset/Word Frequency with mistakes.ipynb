{
 "cells": [
  {
   "cell_type": "markdown",
   "metadata": {},
   "source": [
    "## Libraries Used"
   ]
  },
  {
   "cell_type": "code",
   "execution_count": 1,
   "metadata": {},
   "outputs": [],
   "source": [
    "import csv\n",
    "from collections import Counter\n",
    "from collections import defaultdict\n",
    "import pandas as pd\n",
    "import nltk\n",
    "#nltk.download()\n",
    "from nltk.corpus import stopwords\n",
    "from nltk.tokenize import word_tokenize\n",
    "from nltk.stem import WordNetLemmatizer, SnowballStemmer\n",
    "from nltk.stem.porter import *\n",
    "from nltk.util import ngrams"
   ]
  },
  {
   "cell_type": "markdown",
   "metadata": {},
   "source": [
    "## Reading .csv files"
   ]
  },
  {
   "cell_type": "code",
   "execution_count": 2,
   "metadata": {},
   "outputs": [
    {
     "name": "stdout",
     "output_type": "stream",
     "text": [
      "['title', 'text']\n",
      "4\n",
      "['title', 'text']\n",
      "6\n"
     ]
    }
   ],
   "source": [
    "# Reading True.csv\n",
    "data_true = pd.read_csv('True.csv', error_bad_lines=False);\n",
    "data_true_text = data_true[['text']]\n",
    "data_true_text['index'] = data_true_text.index\n",
    "documents_true = data_true_text\n",
    "print(list(data_true))\n",
    "print(len(documents_true))\n",
    "\n",
    "# Reading Fake.csv\n",
    "data_fake = pd.read_csv('Fake.csv', error_bad_lines=False);\n",
    "data_fake_text = data_fake[['text']]\n",
    "data_fake_text['index'] = data_fake_text.index\n",
    "documents_fake = data_fake_text\n",
    "print(list(data_fake))\n",
    "print(len(documents_fake))"
   ]
  },
  {
   "cell_type": "code",
   "execution_count": 3,
   "metadata": {
    "scrolled": false
   },
   "outputs": [
    {
     "data": {
      "text/html": [
       "<style  type=\"text/css\" >\n",
       "</style><table id=\"T_5a143868_899d_11eb_a3a6_ccaf78d01446\" ><thead>    <tr>        <th class=\"col_heading level0 col0\" >text</th>        <th class=\"col_heading level0 col1\" >index</th>    </tr></thead><tbody>\n",
       "                <tr>\n",
       "                                <td id=\"T_5a143868_899d_11eb_a3a6_ccaf78d01446row0_col0\" class=\"data row0 col0\" >I have a very pretty sister</td>\n",
       "                        <td id=\"T_5a143868_899d_11eb_a3a6_ccaf78d01446row0_col1\" class=\"data row0 col1\" >0</td>\n",
       "            </tr>\n",
       "            <tr>\n",
       "                                <td id=\"T_5a143868_899d_11eb_a3a6_ccaf78d01446row1_col0\" class=\"data row1 col0\" >I have a very pretty mother</td>\n",
       "                        <td id=\"T_5a143868_899d_11eb_a3a6_ccaf78d01446row1_col1\" class=\"data row1 col1\" >1</td>\n",
       "            </tr>\n",
       "            <tr>\n",
       "                                <td id=\"T_5a143868_899d_11eb_a3a6_ccaf78d01446row2_col0\" class=\"data row2 col0\" >I have a handsome father</td>\n",
       "                        <td id=\"T_5a143868_899d_11eb_a3a6_ccaf78d01446row2_col1\" class=\"data row2 col1\" >2</td>\n",
       "            </tr>\n",
       "            <tr>\n",
       "                                <td id=\"T_5a143868_899d_11eb_a3a6_ccaf78d01446row3_col0\" class=\"data row3 col0\" >I have a handsome brother</td>\n",
       "                        <td id=\"T_5a143868_899d_11eb_a3a6_ccaf78d01446row3_col1\" class=\"data row3 col1\" >3</td>\n",
       "            </tr>\n",
       "    </tbody></table>"
      ],
      "text/plain": [
       "<pandas.io.formats.style.Styler at 0x1daa54cdd88>"
      ]
     },
     "execution_count": 3,
     "metadata": {},
     "output_type": "execute_result"
    }
   ],
   "source": [
    "# First 10 true news articles\n",
    "documents_true[:10].style.hide_index()"
   ]
  },
  {
   "cell_type": "code",
   "execution_count": 4,
   "metadata": {},
   "outputs": [
    {
     "data": {
      "text/html": [
       "<style  type=\"text/css\" >\n",
       "</style><table id=\"T_5a1633ee_899d_11eb_8d34_ccaf78d01446\" ><thead>    <tr>        <th class=\"col_heading level0 col0\" >text</th>        <th class=\"col_heading level0 col1\" >index</th>    </tr></thead><tbody>\n",
       "                <tr>\n",
       "                                <td id=\"T_5a1633ee_899d_11eb_8d34_ccaf78d01446row0_col0\" class=\"data row0 col0\" >I am a strong boy</td>\n",
       "                        <td id=\"T_5a1633ee_899d_11eb_8d34_ccaf78d01446row0_col1\" class=\"data row0 col1\" >0</td>\n",
       "            </tr>\n",
       "            <tr>\n",
       "                                <td id=\"T_5a1633ee_899d_11eb_8d34_ccaf78d01446row1_col0\" class=\"data row1 col0\" >I am a strong girl</td>\n",
       "                        <td id=\"T_5a1633ee_899d_11eb_8d34_ccaf78d01446row1_col1\" class=\"data row1 col1\" >1</td>\n",
       "            </tr>\n",
       "            <tr>\n",
       "                                <td id=\"T_5a1633ee_899d_11eb_8d34_ccaf78d01446row2_col0\" class=\"data row2 col0\" >I am a weak boy</td>\n",
       "                        <td id=\"T_5a1633ee_899d_11eb_8d34_ccaf78d01446row2_col1\" class=\"data row2 col1\" >2</td>\n",
       "            </tr>\n",
       "            <tr>\n",
       "                                <td id=\"T_5a1633ee_899d_11eb_8d34_ccaf78d01446row3_col0\" class=\"data row3 col0\" >I am a weak entity</td>\n",
       "                        <td id=\"T_5a1633ee_899d_11eb_8d34_ccaf78d01446row3_col1\" class=\"data row3 col1\" >3</td>\n",
       "            </tr>\n",
       "            <tr>\n",
       "                                <td id=\"T_5a1633ee_899d_11eb_8d34_ccaf78d01446row4_col0\" class=\"data row4 col0\" >nan</td>\n",
       "                        <td id=\"T_5a1633ee_899d_11eb_8d34_ccaf78d01446row4_col1\" class=\"data row4 col1\" >4</td>\n",
       "            </tr>\n",
       "            <tr>\n",
       "                                <td id=\"T_5a1633ee_899d_11eb_8d34_ccaf78d01446row5_col0\" class=\"data row5 col0\" >I am proud of my nation</td>\n",
       "                        <td id=\"T_5a1633ee_899d_11eb_8d34_ccaf78d01446row5_col1\" class=\"data row5 col1\" >5</td>\n",
       "            </tr>\n",
       "    </tbody></table>"
      ],
      "text/plain": [
       "<pandas.io.formats.style.Styler at 0x1daa6894288>"
      ]
     },
     "execution_count": 4,
     "metadata": {},
     "output_type": "execute_result"
    }
   ],
   "source": [
    "# First 10 fake news articles\n",
    "documents_fake[:10].style.hide_index()"
   ]
  },
  {
   "cell_type": "markdown",
   "metadata": {},
   "source": [
    "## Data Preprocessing"
   ]
  },
  {
   "cell_type": "code",
   "execution_count": 5,
   "metadata": {},
   "outputs": [],
   "source": [
    "wnlem = WordNetLemmatizer()\n",
    "stemmer = SnowballStemmer('english')\n",
    "stop_words = set(stopwords.words('english'))"
   ]
  },
  {
   "cell_type": "markdown",
   "metadata": {},
   "source": [
    "#### Lemmatize Example"
   ]
  },
  {
   "cell_type": "code",
   "execution_count": 6,
   "metadata": {},
   "outputs": [
    {
     "data": {
      "text/html": [
       "<style  type=\"text/css\" >\n",
       "</style><table id=\"T_5bd9d286_899d_11eb_a182_ccaf78d01446\" ><thead>    <tr>        <th class=\"col_heading level0 col0\" >Past/Future forms</th>        <th class=\"col_heading level0 col1\" >Present form</th>    </tr></thead><tbody>\n",
       "                <tr>\n",
       "                                <td id=\"T_5bd9d286_899d_11eb_a182_ccaf78d01446row0_col0\" class=\"data row0 col0\" >had</td>\n",
       "                        <td id=\"T_5bd9d286_899d_11eb_a182_ccaf78d01446row0_col1\" class=\"data row0 col1\" >have</td>\n",
       "            </tr>\n",
       "            <tr>\n",
       "                                <td id=\"T_5bd9d286_899d_11eb_a182_ccaf78d01446row1_col0\" class=\"data row1 col0\" >gone</td>\n",
       "                        <td id=\"T_5bd9d286_899d_11eb_a182_ccaf78d01446row1_col1\" class=\"data row1 col1\" >go</td>\n",
       "            </tr>\n",
       "            <tr>\n",
       "                                <td id=\"T_5bd9d286_899d_11eb_a182_ccaf78d01446row2_col0\" class=\"data row2 col0\" >gave</td>\n",
       "                        <td id=\"T_5bd9d286_899d_11eb_a182_ccaf78d01446row2_col1\" class=\"data row2 col1\" >give</td>\n",
       "            </tr>\n",
       "            <tr>\n",
       "                                <td id=\"T_5bd9d286_899d_11eb_a182_ccaf78d01446row3_col0\" class=\"data row3 col0\" >handled</td>\n",
       "                        <td id=\"T_5bd9d286_899d_11eb_a182_ccaf78d01446row3_col1\" class=\"data row3 col1\" >handle</td>\n",
       "            </tr>\n",
       "            <tr>\n",
       "                                <td id=\"T_5bd9d286_899d_11eb_a182_ccaf78d01446row4_col0\" class=\"data row4 col0\" >died</td>\n",
       "                        <td id=\"T_5bd9d286_899d_11eb_a182_ccaf78d01446row4_col1\" class=\"data row4 col1\" >die</td>\n",
       "            </tr>\n",
       "            <tr>\n",
       "                                <td id=\"T_5bd9d286_899d_11eb_a182_ccaf78d01446row5_col0\" class=\"data row5 col0\" >cared</td>\n",
       "                        <td id=\"T_5bd9d286_899d_11eb_a182_ccaf78d01446row5_col1\" class=\"data row5 col1\" >care</td>\n",
       "            </tr>\n",
       "            <tr>\n",
       "                                <td id=\"T_5bd9d286_899d_11eb_a182_ccaf78d01446row6_col0\" class=\"data row6 col0\" >done</td>\n",
       "                        <td id=\"T_5bd9d286_899d_11eb_a182_ccaf78d01446row6_col1\" class=\"data row6 col1\" >do</td>\n",
       "            </tr>\n",
       "            <tr>\n",
       "                                <td id=\"T_5bd9d286_899d_11eb_a182_ccaf78d01446row7_col0\" class=\"data row7 col0\" >wants</td>\n",
       "                        <td id=\"T_5bd9d286_899d_11eb_a182_ccaf78d01446row7_col1\" class=\"data row7 col1\" >want</td>\n",
       "            </tr>\n",
       "    </tbody></table>"
      ],
      "text/plain": [
       "<pandas.io.formats.style.Styler at 0x1daabacd908>"
      ]
     },
     "execution_count": 6,
     "metadata": {},
     "output_type": "execute_result"
    }
   ],
   "source": [
    "past_future_forms = ['had', 'gone', 'gave', 'handled', 'died', 'cared', 'done', 'wants']\n",
    "present_form = [wnlem.lemmatize(pas_fut, pos='v') for pas_fut in past_future_forms]\n",
    "pd.DataFrame(data = {'Past/Future forms': past_future_forms, 'Present form': present_form}).style.hide_index()"
   ]
  },
  {
   "cell_type": "markdown",
   "metadata": {},
   "source": [
    "#### Stemmer Example"
   ]
  },
  {
   "cell_type": "code",
   "execution_count": 7,
   "metadata": {},
   "outputs": [
    {
     "data": {
      "text/html": [
       "<style  type=\"text/css\" >\n",
       "</style><table id=\"T_5bdc6a1c_899d_11eb_9fe0_ccaf78d01446\" ><thead>    <tr>        <th class=\"col_heading level0 col0\" >original word</th>        <th class=\"col_heading level0 col1\" >stemmed</th>    </tr></thead><tbody>\n",
       "                <tr>\n",
       "                                <td id=\"T_5bdc6a1c_899d_11eb_9fe0_ccaf78d01446row0_col0\" class=\"data row0 col0\" >Ram's</td>\n",
       "                        <td id=\"T_5bdc6a1c_899d_11eb_9fe0_ccaf78d01446row0_col1\" class=\"data row0 col1\" >ram</td>\n",
       "            </tr>\n",
       "            <tr>\n",
       "                                <td id=\"T_5bdc6a1c_899d_11eb_9fe0_ccaf78d01446row1_col0\" class=\"data row1 col0\" >Sham's</td>\n",
       "                        <td id=\"T_5bdc6a1c_899d_11eb_9fe0_ccaf78d01446row1_col1\" class=\"data row1 col1\" >sham</td>\n",
       "            </tr>\n",
       "            <tr>\n",
       "                                <td id=\"T_5bdc6a1c_899d_11eb_9fe0_ccaf78d01446row2_col0\" class=\"data row2 col0\" >caresses</td>\n",
       "                        <td id=\"T_5bdc6a1c_899d_11eb_9fe0_ccaf78d01446row2_col1\" class=\"data row2 col1\" >caress</td>\n",
       "            </tr>\n",
       "            <tr>\n",
       "                                <td id=\"T_5bdc6a1c_899d_11eb_9fe0_ccaf78d01446row3_col0\" class=\"data row3 col0\" >flies</td>\n",
       "                        <td id=\"T_5bdc6a1c_899d_11eb_9fe0_ccaf78d01446row3_col1\" class=\"data row3 col1\" >fli</td>\n",
       "            </tr>\n",
       "            <tr>\n",
       "                                <td id=\"T_5bdc6a1c_899d_11eb_9fe0_ccaf78d01446row4_col0\" class=\"data row4 col0\" >dies</td>\n",
       "                        <td id=\"T_5bdc6a1c_899d_11eb_9fe0_ccaf78d01446row4_col1\" class=\"data row4 col1\" >die</td>\n",
       "            </tr>\n",
       "            <tr>\n",
       "                                <td id=\"T_5bdc6a1c_899d_11eb_9fe0_ccaf78d01446row5_col0\" class=\"data row5 col0\" >mules</td>\n",
       "                        <td id=\"T_5bdc6a1c_899d_11eb_9fe0_ccaf78d01446row5_col1\" class=\"data row5 col1\" >mule</td>\n",
       "            </tr>\n",
       "            <tr>\n",
       "                                <td id=\"T_5bdc6a1c_899d_11eb_9fe0_ccaf78d01446row6_col0\" class=\"data row6 col0\" >denied</td>\n",
       "                        <td id=\"T_5bdc6a1c_899d_11eb_9fe0_ccaf78d01446row6_col1\" class=\"data row6 col1\" >deni</td>\n",
       "            </tr>\n",
       "            <tr>\n",
       "                                <td id=\"T_5bdc6a1c_899d_11eb_9fe0_ccaf78d01446row7_col0\" class=\"data row7 col0\" >died</td>\n",
       "                        <td id=\"T_5bdc6a1c_899d_11eb_9fe0_ccaf78d01446row7_col1\" class=\"data row7 col1\" >die</td>\n",
       "            </tr>\n",
       "            <tr>\n",
       "                                <td id=\"T_5bdc6a1c_899d_11eb_9fe0_ccaf78d01446row8_col0\" class=\"data row8 col0\" >agreed</td>\n",
       "                        <td id=\"T_5bdc6a1c_899d_11eb_9fe0_ccaf78d01446row8_col1\" class=\"data row8 col1\" >agre</td>\n",
       "            </tr>\n",
       "            <tr>\n",
       "                                <td id=\"T_5bdc6a1c_899d_11eb_9fe0_ccaf78d01446row9_col0\" class=\"data row9 col0\" >owned</td>\n",
       "                        <td id=\"T_5bdc6a1c_899d_11eb_9fe0_ccaf78d01446row9_col1\" class=\"data row9 col1\" >own</td>\n",
       "            </tr>\n",
       "            <tr>\n",
       "                                <td id=\"T_5bdc6a1c_899d_11eb_9fe0_ccaf78d01446row10_col0\" class=\"data row10 col0\" >humbled</td>\n",
       "                        <td id=\"T_5bdc6a1c_899d_11eb_9fe0_ccaf78d01446row10_col1\" class=\"data row10 col1\" >humbl</td>\n",
       "            </tr>\n",
       "            <tr>\n",
       "                                <td id=\"T_5bdc6a1c_899d_11eb_9fe0_ccaf78d01446row11_col0\" class=\"data row11 col0\" >sized</td>\n",
       "                        <td id=\"T_5bdc6a1c_899d_11eb_9fe0_ccaf78d01446row11_col1\" class=\"data row11 col1\" >size</td>\n",
       "            </tr>\n",
       "            <tr>\n",
       "                                <td id=\"T_5bdc6a1c_899d_11eb_9fe0_ccaf78d01446row12_col0\" class=\"data row12 col0\" >meeting</td>\n",
       "                        <td id=\"T_5bdc6a1c_899d_11eb_9fe0_ccaf78d01446row12_col1\" class=\"data row12 col1\" >meet</td>\n",
       "            </tr>\n",
       "            <tr>\n",
       "                                <td id=\"T_5bdc6a1c_899d_11eb_9fe0_ccaf78d01446row13_col0\" class=\"data row13 col0\" >stating</td>\n",
       "                        <td id=\"T_5bdc6a1c_899d_11eb_9fe0_ccaf78d01446row13_col1\" class=\"data row13 col1\" >state</td>\n",
       "            </tr>\n",
       "            <tr>\n",
       "                                <td id=\"T_5bdc6a1c_899d_11eb_9fe0_ccaf78d01446row14_col0\" class=\"data row14 col0\" >siezing</td>\n",
       "                        <td id=\"T_5bdc6a1c_899d_11eb_9fe0_ccaf78d01446row14_col1\" class=\"data row14 col1\" >siez</td>\n",
       "            </tr>\n",
       "            <tr>\n",
       "                                <td id=\"T_5bdc6a1c_899d_11eb_9fe0_ccaf78d01446row15_col0\" class=\"data row15 col0\" >itemization</td>\n",
       "                        <td id=\"T_5bdc6a1c_899d_11eb_9fe0_ccaf78d01446row15_col1\" class=\"data row15 col1\" >item</td>\n",
       "            </tr>\n",
       "            <tr>\n",
       "                                <td id=\"T_5bdc6a1c_899d_11eb_9fe0_ccaf78d01446row16_col0\" class=\"data row16 col0\" >sensational</td>\n",
       "                        <td id=\"T_5bdc6a1c_899d_11eb_9fe0_ccaf78d01446row16_col1\" class=\"data row16 col1\" >sensat</td>\n",
       "            </tr>\n",
       "            <tr>\n",
       "                                <td id=\"T_5bdc6a1c_899d_11eb_9fe0_ccaf78d01446row17_col0\" class=\"data row17 col0\" >traditional</td>\n",
       "                        <td id=\"T_5bdc6a1c_899d_11eb_9fe0_ccaf78d01446row17_col1\" class=\"data row17 col1\" >tradit</td>\n",
       "            </tr>\n",
       "            <tr>\n",
       "                                <td id=\"T_5bdc6a1c_899d_11eb_9fe0_ccaf78d01446row18_col0\" class=\"data row18 col0\" >reference</td>\n",
       "                        <td id=\"T_5bdc6a1c_899d_11eb_9fe0_ccaf78d01446row18_col1\" class=\"data row18 col1\" >refer</td>\n",
       "            </tr>\n",
       "            <tr>\n",
       "                                <td id=\"T_5bdc6a1c_899d_11eb_9fe0_ccaf78d01446row19_col0\" class=\"data row19 col0\" >colonizer</td>\n",
       "                        <td id=\"T_5bdc6a1c_899d_11eb_9fe0_ccaf78d01446row19_col1\" class=\"data row19 col1\" >colon</td>\n",
       "            </tr>\n",
       "            <tr>\n",
       "                                <td id=\"T_5bdc6a1c_899d_11eb_9fe0_ccaf78d01446row20_col0\" class=\"data row20 col0\" >plotted</td>\n",
       "                        <td id=\"T_5bdc6a1c_899d_11eb_9fe0_ccaf78d01446row20_col1\" class=\"data row20 col1\" >plot</td>\n",
       "            </tr>\n",
       "    </tbody></table>"
      ],
      "text/plain": [
       "<pandas.io.formats.style.Styler at 0x1daabada8c8>"
      ]
     },
     "execution_count": 7,
     "metadata": {},
     "output_type": "execute_result"
    }
   ],
   "source": [
    "original_words = [\"Ram's\", \"Sham's\", 'caresses', 'flies', 'dies', 'mules', 'denied','died', 'agreed', 'owned', \n",
    "           'humbled', 'sized','meeting', 'stating', 'siezing', 'itemization','sensational', \n",
    "           'traditional', 'reference', 'colonizer','plotted']\n",
    "singles = [stemmer.stem(plural) for plural in original_words]\n",
    "pd.DataFrame(data = {'original word': original_words, 'stemmed': singles}).style.hide_index()"
   ]
  },
  {
   "cell_type": "markdown",
   "metadata": {},
   "source": [
    "#### Tokenize and Removing Stop Words Example"
   ]
  },
  {
   "cell_type": "code",
   "execution_count": 8,
   "metadata": {},
   "outputs": [
    {
     "name": "stdout",
     "output_type": "stream",
     "text": [
      "\"This is a sample sentence, showing off the stop words filteration.\"\n",
      "\n",
      "The stop words in nltk are as follows:\n",
      " {\"it's\", 'once', 'not', 't', 'again', 'such', 'an', 'do', \"weren't\", 'when', 'him', 'doing', 'or', 'because', 'further', 'its', 'both', 'is', 'haven', 'as', \"she's\", 'has', 'does', 'if', 'isn', 'with', 'own', 'won', 'which', 'no', 'the', 'there', 'them', 'down', \"that'll\", 'in', 'are', \"don't\", 'be', 'some', \"needn't\", 'herself', 'yourself', 'of', 'yourselves', 'y', 'needn', 'having', \"should've\", 'they', 'your', 'didn', 'itself', 'she', \"shouldn't\", 'theirs', 'my', 'd', 'at', 'their', 'we', 'our', 're', \"you'd\", 'during', 'you', 'out', 'just', 'here', 'to', 'from', 'ain', 'shan', 'am', 'himself', 'ma', 'he', 'm', 'that', 'and', 'before', 'ours', 'i', \"hasn't\", \"wasn't\", 'above', 'whom', 'then', 'where', 'very', \"mustn't\", 'each', 'should', \"couldn't\", 'off', 'myself', 'why', 'ourselves', 'mightn', 'through', 'been', 'shouldn', 'yours', 'being', 'over', \"haven't\", 'mustn', 'did', 'me', \"shan't\", 'these', 'while', 'few', 'can', 'all', 'any', 'other', 'those', 'on', 'it', 'most', 'll', 'how', 'only', 'same', 'by', 'have', 'will', 'her', 'hers', 'between', 've', \"doesn't\", \"didn't\", 'wasn', \"aren't\", \"wouldn't\", \"you've\", 'hasn', 'but', 'than', 'weren', 'against', 'hadn', 'themselves', 'who', 'doesn', \"isn't\", 'up', 'this', 'were', 'too', 'wouldn', 'below', 'aren', 'was', \"hadn't\", 'his', 's', 'into', 'about', 'under', 'a', 'after', 'now', \"mightn't\", \"won't\", 'more', 'o', 'until', \"you'll\", 'what', 'don', 'nor', 'for', 'so', 'couldn', \"you're\", 'had'}\n",
      "\n",
      "The word tokens in example sentence are: ['``', 'This', 'is', 'a', 'sample', 'sentence', ',', 'showing', 'off', 'the', 'stop', 'words', 'filteration', '.', \"''\"]\n",
      "\n",
      "The filtered sentence corresponding to example sentence is: ['``', 'This', 'sample', 'sentence', ',', 'showing', 'stop', 'words', 'filteration', '.', \"''\"]\n"
     ]
    }
   ],
   "source": [
    "example_sent = '\"This is a sample sentence, showing off the stop words filteration.\"'\n",
    "print(example_sent)\n",
    "print('\\nThe stop words in nltk are as follows:\\n',stop_words)\n",
    "word_tokens = word_tokenize(example_sent)\n",
    "filtered_sentence = [w for w in word_tokens if not w in stop_words]\n",
    "print('\\nThe word tokens in example sentence are:',word_tokens)\n",
    "print('\\nThe filtered sentence corresponding to example sentence is:',filtered_sentence)"
   ]
  },
  {
   "cell_type": "markdown",
   "metadata": {},
   "source": [
    "### Lemmatization, Stemming, Tokenization and Removing Stop Words"
   ]
  },
  {
   "cell_type": "code",
   "execution_count": 9,
   "metadata": {},
   "outputs": [],
   "source": [
    "def lemmatize_stemming(text):\n",
    "    return stemmer.stem(wnlem.lemmatize(text, pos='v'))\n",
    "\n",
    "def preprocess(text):\n",
    "    result = []\n",
    "    try:\n",
    "        text = text[:300]   # For summarisation of news articles\n",
    "        for token in word_tokenize(text):\n",
    "            if token not in stop_words and len(token) > 2:\n",
    "                result.append(lemmatize_stemming(token))\n",
    "    except:\n",
    "        pass  # for empty entries\n",
    "    return result"
   ]
  },
  {
   "cell_type": "markdown",
   "metadata": {},
   "source": [
    "### Preprocessing on Sample Document(s)"
   ]
  },
  {
   "cell_type": "code",
   "execution_count": 10,
   "metadata": {},
   "outputs": [
    {
     "name": "stdout",
     "output_type": "stream",
     "text": [
      "original true sample document: \n",
      "['I', 'have', 'a', 'handsome', 'father']\n",
      "\n",
      "\n",
      " preprocessed true sample document: \n",
      "['handsom', 'father']\n",
      "\n",
      "\n",
      " original fake sample document: \n",
      "[]\n",
      "\n",
      "\n",
      " preprocessed fake sample document: \n",
      "[]\n"
     ]
    }
   ],
   "source": [
    "# Sample document from True.csv\n",
    "doc_sample_true = documents_true[documents_true['index'] == 2].values[0][0]\n",
    "\n",
    "print('original true sample document: ')\n",
    "words_true = []\n",
    "try:\n",
    "    for word in doc_sample_true.split(' '):\n",
    "        words_true.append(word)\n",
    "except:\n",
    "    pass\n",
    "print(words_true)\n",
    "print('\\n\\n preprocessed true sample document: ')\n",
    "print(preprocess(doc_sample_true))\n",
    "\n",
    "# Sample document from Fake.csv\n",
    "doc_sample_fake = documents_fake[documents_fake['index'] == 4].values[0][0]\n",
    "\n",
    "print('\\n\\n original fake sample document: ')\n",
    "words_fake = []\n",
    "try:\n",
    "    for word in doc_sample_fake.split(' '):\n",
    "        words_fake.append(word)\n",
    "except:\n",
    "    pass\n",
    "print(words_fake)\n",
    "print('\\n\\n preprocessed fake sample document: ')\n",
    "print(preprocess(doc_sample_fake))"
   ]
  },
  {
   "cell_type": "code",
   "execution_count": 11,
   "metadata": {},
   "outputs": [],
   "source": [
    "# Preprocessing for true news articles\n",
    "processed_true_docs = documents_true['text'].map(preprocess)\n",
    "\n",
    "# Preprocessing for fake news articles\n",
    "processed_fake_docs = documents_fake['text'].map(preprocess)"
   ]
  },
  {
   "cell_type": "code",
   "execution_count": 12,
   "metadata": {},
   "outputs": [
    {
     "name": "stdout",
     "output_type": "stream",
     "text": [
      "0      [pretti, sister]\n",
      "1      [pretti, mother]\n",
      "2     [handsom, father]\n",
      "3    [handsom, brother]\n",
      "Name: text, dtype: object\n"
     ]
    },
    {
     "data": {
      "text/plain": [
       "0      [strong, boy]\n",
       "1     [strong, girl]\n",
       "2        [weak, boy]\n",
       "3     [weak, entiti]\n",
       "4                 []\n",
       "5    [proud, nation]\n",
       "Name: text, dtype: object"
      ]
     },
     "execution_count": 12,
     "metadata": {},
     "output_type": "execute_result"
    }
   ],
   "source": [
    "# First 10 preprocessed true news articles\n",
    "print(processed_true_docs[:10])\n",
    "\n",
    "# First 10 preprocessed fake news articles\n",
    "processed_fake_docs[:10]"
   ]
  },
  {
   "cell_type": "markdown",
   "metadata": {},
   "source": [
    "# Case Study Unigram Word Frequecies and Document Frequencies"
   ]
  },
  {
   "cell_type": "markdown",
   "metadata": {},
   "source": [
    "## Word Frequency"
   ]
  },
  {
   "cell_type": "code",
   "execution_count": 13,
   "metadata": {},
   "outputs": [
    {
     "name": "stdout",
     "output_type": "stream",
     "text": [
      "8 words were found in the corpus\n",
      "The unique identified words with their corresponding word frequencies for top 50 words from true news articles are given below:\n",
      "\t handsom   (2)\n",
      "\t pretti   (2)\n",
      "\t brother   (1)\n",
      "\t father   (1)\n",
      "\t mother   (1)\n",
      "\t sister   (1)\n",
      "\n",
      " \n",
      "10 words were found in the corpus\n",
      "The unique identified words with their corresponding word frequencies for top 50 words from fake news articles are given below:\n",
      "\t weak   (2)\n",
      "\t strong   (2)\n",
      "\t boy   (2)\n",
      "\t entiti   (1)\n",
      "\t proud   (1)\n",
      "\t girl   (1)\n",
      "\t nation   (1)\n"
     ]
    }
   ],
   "source": [
    "# Calculating Word Frequency for words from true news articles\n",
    "words =[]\n",
    "with open('True.csv',encoding = \"utf8\") as csvfile:\n",
    "    reader = csv.reader(csvfile)\n",
    "    next(reader)\n",
    "    for row in reader:\n",
    "        csv_words = preprocess(row[1])\n",
    "        for i in csv_words:\n",
    "            words.append(i)\n",
    "            \n",
    "words_counted = []\n",
    "\n",
    "for i in words:\n",
    "    x = words.count(i)\n",
    "    words_counted.append((i,x))\n",
    "words_counted = set(words_counted)\n",
    "words_counted = list(words_counted)\n",
    "words_counted.sort(key = lambda x:x[1], reverse = True)\n",
    "val = [x for (i,x) in words_counted]\n",
    "print('{} words were found in the corpus'.format(sum(val)))\n",
    "print(\"The unique identified words with their corresponding word frequencies for top 50 words from true news articles are given below:\")\n",
    "N = 0\n",
    "for (i,x) in words_counted:\n",
    "    print('\\t',i,'  ({})'.format(x))\n",
    "    N+=1\n",
    "    if N == 50:\n",
    "        break\n",
    "\n",
    "# Calculating Word Frequency for words from fake news articles\n",
    "words =[]\n",
    "with open('Fake.csv',encoding = \"utf8\") as csvfile:\n",
    "    reader = csv.reader(csvfile)\n",
    "    next(reader)\n",
    "    for row in reader:\n",
    "        csv_words = preprocess(row[1])\n",
    "        for i in csv_words:\n",
    "            words.append(i)\n",
    "            \n",
    "words_counted = []\n",
    "\n",
    "for i in words:\n",
    "    x = words.count(i)\n",
    "    words_counted.append((i,x))\n",
    "words_counted = set(words_counted)\n",
    "words_counted = list(words_counted)\n",
    "words_counted.sort(key = lambda x:x[1], reverse = True)\n",
    "val = [x for (i,x) in words_counted]\n",
    "print('\\n \\n{} words were found in the corpus'.format(sum(val)))\n",
    "print(\"The unique identified words with their corresponding word frequencies for top 50 words from fake news articles are given below:\")\n",
    "N = 0\n",
    "for (i,x) in words_counted:\n",
    "    print('\\t',i,'  ({})'.format(x))\n",
    "    N+=1\n",
    "    if N == 50:\n",
    "        break"
   ]
  },
  {
   "cell_type": "markdown",
   "metadata": {},
   "source": [
    "## Cumulative Term Frequency and Document Frequency"
   ]
  },
  {
   "cell_type": "code",
   "execution_count": 14,
   "metadata": {},
   "outputs": [],
   "source": [
    "# Calculation of Term Frequencies and Document Frequecies for words from true news articles\n",
    "with open('True.csv',encoding = \"utf8\") as csvfile:\n",
    "    reader = csv.reader(csvfile)\n",
    "    next(reader)\n",
    "    words_true_ctf_dict = {}\n",
    "    words_true_df_dict = {}\n",
    "    l = 0\n",
    "    for row in reader:\n",
    "        l += 1\n",
    "        csv_words = preprocess(row[1])\n",
    "        csv_words_tf = []\n",
    "        for i in csv_words:\n",
    "            x = csv_words.count(i)\n",
    "            csv_words_tf.append((i,x/float(len(csv_words))))\n",
    "        csv_words_tf = set(csv_words_tf)\n",
    "        for (i,x) in csv_words_tf:\n",
    "            words_true_ctf_dict[i] = words_true_ctf_dict.get(i,0) + x\n",
    "            words_true_df_dict[i] = words_true_df_dict.get(i,0) + 1\n",
    "    for k, v in words_true_df_dict.items():\n",
    "        words_true_df_dict[k] = v/(float(l))\n",
    "    words_true_ctf_lst = [(k, v) for k, v in words_true_ctf_dict.items()]\n",
    "    ctf_true_lst = words_true_ctf_lst[:35]\n",
    "    words_true_ctf_lst.sort(key = lambda x:x[1], reverse = True)\n",
    "    ctf_true_lst.sort(key = lambda x:x[1], reverse = True)\n",
    "    words_true_df_lst = [(k, v) for k, v in words_true_df_dict.items()]\n",
    "    df_true_lst = words_true_df_lst[:35]\n",
    "    words_true_df_lst.sort(key = lambda x:x[1], reverse = True)\n",
    "    df_true_lst.sort(key = lambda x:x[1], reverse = True)\n",
    "    ctf_true = pd.DataFrame({'Word': [k for (k,v) in ctf_true_lst], 'Cumulative Term Frequency': [v for (k,v) in ctf_true_lst], 'Document Frequency': [words_true_df_dict[k] for (k,v) in ctf_true_lst]})\n",
    "    df_true = pd.DataFrame({'Word': [k for (k,v) in df_true_lst], 'Cumulative Term Frequency': [words_true_ctf_dict[k] for (k,v) in df_true_lst], 'Document Frequency': [v for (k,v) in df_true_lst]})\n",
    "    \n",
    "# Calculation of Term Frequencies and Document Frequecies for words from fake news articles\n",
    "with open('Fake.csv',encoding = \"utf8\") as csvfile:\n",
    "    reader = csv.reader(csvfile)\n",
    "    next(reader)\n",
    "    words_fake_ctf_dict = {}\n",
    "    words_fake_df_dict = {}\n",
    "    l = 0\n",
    "    for row in reader:\n",
    "        l += 1\n",
    "        csv_words = preprocess(row[1])\n",
    "        csv_words_tf = []\n",
    "        for i in csv_words:\n",
    "            x = csv_words.count(i)\n",
    "            csv_words_tf.append((i,x/float(len(csv_words))))\n",
    "        csv_words_tf = set(csv_words_tf)\n",
    "        for (i,x) in csv_words_tf:\n",
    "            words_fake_ctf_dict[i] = words_fake_ctf_dict.get(i,0) + x\n",
    "            words_fake_df_dict[i] = words_fake_df_dict.get(i,0) + 1\n",
    "    for k, v in words_fake_df_dict.items():\n",
    "        words_fake_df_dict[k] = v/(float(l))\n",
    "    words_fake_ctf_lst = [(k, v) for k, v in words_fake_ctf_dict.items()]\n",
    "    ctf_fake_lst = words_fake_ctf_lst[:35]\n",
    "    words_fake_ctf_lst.sort(key = lambda x:x[1], reverse = True)\n",
    "    ctf_fake_lst.sort(key = lambda x:x[1], reverse = True)\n",
    "    words_fake_df_lst = [(k, v) for k, v in words_fake_df_dict.items()]\n",
    "    df_fake_lst = words_fake_df_lst[:35]\n",
    "    words_fake_df_lst.sort(key = lambda x:x[1], reverse = True)\n",
    "    df_fake_lst.sort(key = lambda x:x[1], reverse = True)\n",
    "    ctf_fake = pd.DataFrame({'Word': [k for (k,v) in ctf_fake_lst], 'Cumulative Term Frequency': [v for (k,v) in ctf_fake_lst], 'Document Frequency': [words_fake_df_dict[k] for (k,v) in ctf_fake_lst]})\n",
    "    df_fake = pd.DataFrame({'Word': [k for (k,v) in df_fake_lst], 'Cumulative Term Frequency': [words_fake_ctf_dict[k] for (k,v) in df_fake_lst], 'Document Frequency': [v for (k,v) in df_fake_lst]})"
   ]
  },
  {
   "cell_type": "code",
   "execution_count": 15,
   "metadata": {},
   "outputs": [
    {
     "name": "stdout",
     "output_type": "stream",
     "text": [
      "The cumulative Term Frequency in Descending Order for true news articles is given by:\n"
     ]
    },
    {
     "data": {
      "text/html": [
       "<style  type=\"text/css\" >\n",
       "</style><table id=\"T_5ca91552_899d_11eb_82a2_ccaf78d01446\" ><thead>    <tr>        <th class=\"col_heading level0 col0\" >Word</th>        <th class=\"col_heading level0 col1\" >Cumulative Term Frequency</th>        <th class=\"col_heading level0 col2\" >Document Frequency</th>    </tr></thead><tbody>\n",
       "                <tr>\n",
       "                                <td id=\"T_5ca91552_899d_11eb_82a2_ccaf78d01446row0_col0\" class=\"data row0 col0\" >pretti</td>\n",
       "                        <td id=\"T_5ca91552_899d_11eb_82a2_ccaf78d01446row0_col1\" class=\"data row0 col1\" >1.000000</td>\n",
       "                        <td id=\"T_5ca91552_899d_11eb_82a2_ccaf78d01446row0_col2\" class=\"data row0 col2\" >0.500000</td>\n",
       "            </tr>\n",
       "            <tr>\n",
       "                                <td id=\"T_5ca91552_899d_11eb_82a2_ccaf78d01446row1_col0\" class=\"data row1 col0\" >handsom</td>\n",
       "                        <td id=\"T_5ca91552_899d_11eb_82a2_ccaf78d01446row1_col1\" class=\"data row1 col1\" >1.000000</td>\n",
       "                        <td id=\"T_5ca91552_899d_11eb_82a2_ccaf78d01446row1_col2\" class=\"data row1 col2\" >0.500000</td>\n",
       "            </tr>\n",
       "            <tr>\n",
       "                                <td id=\"T_5ca91552_899d_11eb_82a2_ccaf78d01446row2_col0\" class=\"data row2 col0\" >sister</td>\n",
       "                        <td id=\"T_5ca91552_899d_11eb_82a2_ccaf78d01446row2_col1\" class=\"data row2 col1\" >0.500000</td>\n",
       "                        <td id=\"T_5ca91552_899d_11eb_82a2_ccaf78d01446row2_col2\" class=\"data row2 col2\" >0.250000</td>\n",
       "            </tr>\n",
       "            <tr>\n",
       "                                <td id=\"T_5ca91552_899d_11eb_82a2_ccaf78d01446row3_col0\" class=\"data row3 col0\" >mother</td>\n",
       "                        <td id=\"T_5ca91552_899d_11eb_82a2_ccaf78d01446row3_col1\" class=\"data row3 col1\" >0.500000</td>\n",
       "                        <td id=\"T_5ca91552_899d_11eb_82a2_ccaf78d01446row3_col2\" class=\"data row3 col2\" >0.250000</td>\n",
       "            </tr>\n",
       "            <tr>\n",
       "                                <td id=\"T_5ca91552_899d_11eb_82a2_ccaf78d01446row4_col0\" class=\"data row4 col0\" >father</td>\n",
       "                        <td id=\"T_5ca91552_899d_11eb_82a2_ccaf78d01446row4_col1\" class=\"data row4 col1\" >0.500000</td>\n",
       "                        <td id=\"T_5ca91552_899d_11eb_82a2_ccaf78d01446row4_col2\" class=\"data row4 col2\" >0.250000</td>\n",
       "            </tr>\n",
       "            <tr>\n",
       "                                <td id=\"T_5ca91552_899d_11eb_82a2_ccaf78d01446row5_col0\" class=\"data row5 col0\" >brother</td>\n",
       "                        <td id=\"T_5ca91552_899d_11eb_82a2_ccaf78d01446row5_col1\" class=\"data row5 col1\" >0.500000</td>\n",
       "                        <td id=\"T_5ca91552_899d_11eb_82a2_ccaf78d01446row5_col2\" class=\"data row5 col2\" >0.250000</td>\n",
       "            </tr>\n",
       "    </tbody></table>"
      ],
      "text/plain": [
       "<pandas.io.formats.style.Styler at 0x1daabc49948>"
      ]
     },
     "execution_count": 15,
     "metadata": {},
     "output_type": "execute_result"
    }
   ],
   "source": [
    "# df1.style.apply(lambda x: ['background: red' if x < 0 else \"background: green\" for x in df1], axis = 0)\n",
    "print(\"The cumulative Term Frequency in Descending Order for true news articles is given by:\")\n",
    "ctf_true.style.hide_index()"
   ]
  },
  {
   "cell_type": "code",
   "execution_count": 16,
   "metadata": {},
   "outputs": [
    {
     "name": "stdout",
     "output_type": "stream",
     "text": [
      "The Document Frequency in Descending Order for true news articles is given by:\n"
     ]
    },
    {
     "data": {
      "text/html": [
       "<style  type=\"text/css\" >\n",
       "</style><table id=\"T_5cc490e8_899d_11eb_b571_ccaf78d01446\" ><thead>    <tr>        <th class=\"col_heading level0 col0\" >Word</th>        <th class=\"col_heading level0 col1\" >Cumulative Term Frequency</th>        <th class=\"col_heading level0 col2\" >Document Frequency</th>    </tr></thead><tbody>\n",
       "                <tr>\n",
       "                                <td id=\"T_5cc490e8_899d_11eb_b571_ccaf78d01446row0_col0\" class=\"data row0 col0\" >pretti</td>\n",
       "                        <td id=\"T_5cc490e8_899d_11eb_b571_ccaf78d01446row0_col1\" class=\"data row0 col1\" >1.000000</td>\n",
       "                        <td id=\"T_5cc490e8_899d_11eb_b571_ccaf78d01446row0_col2\" class=\"data row0 col2\" >0.500000</td>\n",
       "            </tr>\n",
       "            <tr>\n",
       "                                <td id=\"T_5cc490e8_899d_11eb_b571_ccaf78d01446row1_col0\" class=\"data row1 col0\" >handsom</td>\n",
       "                        <td id=\"T_5cc490e8_899d_11eb_b571_ccaf78d01446row1_col1\" class=\"data row1 col1\" >1.000000</td>\n",
       "                        <td id=\"T_5cc490e8_899d_11eb_b571_ccaf78d01446row1_col2\" class=\"data row1 col2\" >0.500000</td>\n",
       "            </tr>\n",
       "            <tr>\n",
       "                                <td id=\"T_5cc490e8_899d_11eb_b571_ccaf78d01446row2_col0\" class=\"data row2 col0\" >sister</td>\n",
       "                        <td id=\"T_5cc490e8_899d_11eb_b571_ccaf78d01446row2_col1\" class=\"data row2 col1\" >0.500000</td>\n",
       "                        <td id=\"T_5cc490e8_899d_11eb_b571_ccaf78d01446row2_col2\" class=\"data row2 col2\" >0.250000</td>\n",
       "            </tr>\n",
       "            <tr>\n",
       "                                <td id=\"T_5cc490e8_899d_11eb_b571_ccaf78d01446row3_col0\" class=\"data row3 col0\" >mother</td>\n",
       "                        <td id=\"T_5cc490e8_899d_11eb_b571_ccaf78d01446row3_col1\" class=\"data row3 col1\" >0.500000</td>\n",
       "                        <td id=\"T_5cc490e8_899d_11eb_b571_ccaf78d01446row3_col2\" class=\"data row3 col2\" >0.250000</td>\n",
       "            </tr>\n",
       "            <tr>\n",
       "                                <td id=\"T_5cc490e8_899d_11eb_b571_ccaf78d01446row4_col0\" class=\"data row4 col0\" >father</td>\n",
       "                        <td id=\"T_5cc490e8_899d_11eb_b571_ccaf78d01446row4_col1\" class=\"data row4 col1\" >0.500000</td>\n",
       "                        <td id=\"T_5cc490e8_899d_11eb_b571_ccaf78d01446row4_col2\" class=\"data row4 col2\" >0.250000</td>\n",
       "            </tr>\n",
       "            <tr>\n",
       "                                <td id=\"T_5cc490e8_899d_11eb_b571_ccaf78d01446row5_col0\" class=\"data row5 col0\" >brother</td>\n",
       "                        <td id=\"T_5cc490e8_899d_11eb_b571_ccaf78d01446row5_col1\" class=\"data row5 col1\" >0.500000</td>\n",
       "                        <td id=\"T_5cc490e8_899d_11eb_b571_ccaf78d01446row5_col2\" class=\"data row5 col2\" >0.250000</td>\n",
       "            </tr>\n",
       "    </tbody></table>"
      ],
      "text/plain": [
       "<pandas.io.formats.style.Styler at 0x1daabc74e08>"
      ]
     },
     "execution_count": 16,
     "metadata": {},
     "output_type": "execute_result"
    }
   ],
   "source": [
    "print(\"The Document Frequency in Descending Order for true news articles is given by:\")\n",
    "df_true.style.hide_index()"
   ]
  },
  {
   "cell_type": "code",
   "execution_count": 17,
   "metadata": {},
   "outputs": [
    {
     "name": "stdout",
     "output_type": "stream",
     "text": [
      "The cumulative Term Frequency in Descending Order for fake news articles is given by:\n"
     ]
    },
    {
     "data": {
      "text/html": [
       "<style  type=\"text/css\" >\n",
       "</style><table id=\"T_5cdfa1c0_899d_11eb_a1a8_ccaf78d01446\" ><thead>    <tr>        <th class=\"col_heading level0 col0\" >Word</th>        <th class=\"col_heading level0 col1\" >Cumulative Term Frequency</th>        <th class=\"col_heading level0 col2\" >Document Frequency</th>    </tr></thead><tbody>\n",
       "                <tr>\n",
       "                                <td id=\"T_5cdfa1c0_899d_11eb_a1a8_ccaf78d01446row0_col0\" class=\"data row0 col0\" >boy</td>\n",
       "                        <td id=\"T_5cdfa1c0_899d_11eb_a1a8_ccaf78d01446row0_col1\" class=\"data row0 col1\" >1.000000</td>\n",
       "                        <td id=\"T_5cdfa1c0_899d_11eb_a1a8_ccaf78d01446row0_col2\" class=\"data row0 col2\" >0.333333</td>\n",
       "            </tr>\n",
       "            <tr>\n",
       "                                <td id=\"T_5cdfa1c0_899d_11eb_a1a8_ccaf78d01446row1_col0\" class=\"data row1 col0\" >strong</td>\n",
       "                        <td id=\"T_5cdfa1c0_899d_11eb_a1a8_ccaf78d01446row1_col1\" class=\"data row1 col1\" >1.000000</td>\n",
       "                        <td id=\"T_5cdfa1c0_899d_11eb_a1a8_ccaf78d01446row1_col2\" class=\"data row1 col2\" >0.333333</td>\n",
       "            </tr>\n",
       "            <tr>\n",
       "                                <td id=\"T_5cdfa1c0_899d_11eb_a1a8_ccaf78d01446row2_col0\" class=\"data row2 col0\" >weak</td>\n",
       "                        <td id=\"T_5cdfa1c0_899d_11eb_a1a8_ccaf78d01446row2_col1\" class=\"data row2 col1\" >1.000000</td>\n",
       "                        <td id=\"T_5cdfa1c0_899d_11eb_a1a8_ccaf78d01446row2_col2\" class=\"data row2 col2\" >0.333333</td>\n",
       "            </tr>\n",
       "            <tr>\n",
       "                                <td id=\"T_5cdfa1c0_899d_11eb_a1a8_ccaf78d01446row3_col0\" class=\"data row3 col0\" >girl</td>\n",
       "                        <td id=\"T_5cdfa1c0_899d_11eb_a1a8_ccaf78d01446row3_col1\" class=\"data row3 col1\" >0.500000</td>\n",
       "                        <td id=\"T_5cdfa1c0_899d_11eb_a1a8_ccaf78d01446row3_col2\" class=\"data row3 col2\" >0.166667</td>\n",
       "            </tr>\n",
       "            <tr>\n",
       "                                <td id=\"T_5cdfa1c0_899d_11eb_a1a8_ccaf78d01446row4_col0\" class=\"data row4 col0\" >entiti</td>\n",
       "                        <td id=\"T_5cdfa1c0_899d_11eb_a1a8_ccaf78d01446row4_col1\" class=\"data row4 col1\" >0.500000</td>\n",
       "                        <td id=\"T_5cdfa1c0_899d_11eb_a1a8_ccaf78d01446row4_col2\" class=\"data row4 col2\" >0.166667</td>\n",
       "            </tr>\n",
       "            <tr>\n",
       "                                <td id=\"T_5cdfa1c0_899d_11eb_a1a8_ccaf78d01446row5_col0\" class=\"data row5 col0\" >proud</td>\n",
       "                        <td id=\"T_5cdfa1c0_899d_11eb_a1a8_ccaf78d01446row5_col1\" class=\"data row5 col1\" >0.500000</td>\n",
       "                        <td id=\"T_5cdfa1c0_899d_11eb_a1a8_ccaf78d01446row5_col2\" class=\"data row5 col2\" >0.166667</td>\n",
       "            </tr>\n",
       "            <tr>\n",
       "                                <td id=\"T_5cdfa1c0_899d_11eb_a1a8_ccaf78d01446row6_col0\" class=\"data row6 col0\" >nation</td>\n",
       "                        <td id=\"T_5cdfa1c0_899d_11eb_a1a8_ccaf78d01446row6_col1\" class=\"data row6 col1\" >0.500000</td>\n",
       "                        <td id=\"T_5cdfa1c0_899d_11eb_a1a8_ccaf78d01446row6_col2\" class=\"data row6 col2\" >0.166667</td>\n",
       "            </tr>\n",
       "    </tbody></table>"
      ],
      "text/plain": [
       "<pandas.io.formats.style.Styler at 0x1daabc50e48>"
      ]
     },
     "execution_count": 17,
     "metadata": {},
     "output_type": "execute_result"
    }
   ],
   "source": [
    "print(\"The cumulative Term Frequency in Descending Order for fake news articles is given by:\")\n",
    "ctf_fake.style.hide_index()"
   ]
  },
  {
   "cell_type": "code",
   "execution_count": 18,
   "metadata": {
    "scrolled": true
   },
   "outputs": [
    {
     "name": "stdout",
     "output_type": "stream",
     "text": [
      "The Document Frequency in Descending Order for fake news articles is given by:\n"
     ]
    },
    {
     "data": {
      "text/html": [
       "<style  type=\"text/css\" >\n",
       "</style><table id=\"T_5cf82494_899d_11eb_b99a_ccaf78d01446\" ><thead>    <tr>        <th class=\"col_heading level0 col0\" >Word</th>        <th class=\"col_heading level0 col1\" >Cumulative Term Frequency</th>        <th class=\"col_heading level0 col2\" >Document Frequency</th>    </tr></thead><tbody>\n",
       "                <tr>\n",
       "                                <td id=\"T_5cf82494_899d_11eb_b99a_ccaf78d01446row0_col0\" class=\"data row0 col0\" >boy</td>\n",
       "                        <td id=\"T_5cf82494_899d_11eb_b99a_ccaf78d01446row0_col1\" class=\"data row0 col1\" >1.000000</td>\n",
       "                        <td id=\"T_5cf82494_899d_11eb_b99a_ccaf78d01446row0_col2\" class=\"data row0 col2\" >0.333333</td>\n",
       "            </tr>\n",
       "            <tr>\n",
       "                                <td id=\"T_5cf82494_899d_11eb_b99a_ccaf78d01446row1_col0\" class=\"data row1 col0\" >strong</td>\n",
       "                        <td id=\"T_5cf82494_899d_11eb_b99a_ccaf78d01446row1_col1\" class=\"data row1 col1\" >1.000000</td>\n",
       "                        <td id=\"T_5cf82494_899d_11eb_b99a_ccaf78d01446row1_col2\" class=\"data row1 col2\" >0.333333</td>\n",
       "            </tr>\n",
       "            <tr>\n",
       "                                <td id=\"T_5cf82494_899d_11eb_b99a_ccaf78d01446row2_col0\" class=\"data row2 col0\" >weak</td>\n",
       "                        <td id=\"T_5cf82494_899d_11eb_b99a_ccaf78d01446row2_col1\" class=\"data row2 col1\" >1.000000</td>\n",
       "                        <td id=\"T_5cf82494_899d_11eb_b99a_ccaf78d01446row2_col2\" class=\"data row2 col2\" >0.333333</td>\n",
       "            </tr>\n",
       "            <tr>\n",
       "                                <td id=\"T_5cf82494_899d_11eb_b99a_ccaf78d01446row3_col0\" class=\"data row3 col0\" >girl</td>\n",
       "                        <td id=\"T_5cf82494_899d_11eb_b99a_ccaf78d01446row3_col1\" class=\"data row3 col1\" >0.500000</td>\n",
       "                        <td id=\"T_5cf82494_899d_11eb_b99a_ccaf78d01446row3_col2\" class=\"data row3 col2\" >0.166667</td>\n",
       "            </tr>\n",
       "            <tr>\n",
       "                                <td id=\"T_5cf82494_899d_11eb_b99a_ccaf78d01446row4_col0\" class=\"data row4 col0\" >entiti</td>\n",
       "                        <td id=\"T_5cf82494_899d_11eb_b99a_ccaf78d01446row4_col1\" class=\"data row4 col1\" >0.500000</td>\n",
       "                        <td id=\"T_5cf82494_899d_11eb_b99a_ccaf78d01446row4_col2\" class=\"data row4 col2\" >0.166667</td>\n",
       "            </tr>\n",
       "            <tr>\n",
       "                                <td id=\"T_5cf82494_899d_11eb_b99a_ccaf78d01446row5_col0\" class=\"data row5 col0\" >proud</td>\n",
       "                        <td id=\"T_5cf82494_899d_11eb_b99a_ccaf78d01446row5_col1\" class=\"data row5 col1\" >0.500000</td>\n",
       "                        <td id=\"T_5cf82494_899d_11eb_b99a_ccaf78d01446row5_col2\" class=\"data row5 col2\" >0.166667</td>\n",
       "            </tr>\n",
       "            <tr>\n",
       "                                <td id=\"T_5cf82494_899d_11eb_b99a_ccaf78d01446row6_col0\" class=\"data row6 col0\" >nation</td>\n",
       "                        <td id=\"T_5cf82494_899d_11eb_b99a_ccaf78d01446row6_col1\" class=\"data row6 col1\" >0.500000</td>\n",
       "                        <td id=\"T_5cf82494_899d_11eb_b99a_ccaf78d01446row6_col2\" class=\"data row6 col2\" >0.166667</td>\n",
       "            </tr>\n",
       "    </tbody></table>"
      ],
      "text/plain": [
       "<pandas.io.formats.style.Styler at 0x1daabca6808>"
      ]
     },
     "execution_count": 18,
     "metadata": {},
     "output_type": "execute_result"
    }
   ],
   "source": [
    "print(\"The Document Frequency in Descending Order for fake news articles is given by:\")\n",
    "df_fake.style.hide_index()"
   ]
  },
  {
   "cell_type": "markdown",
   "metadata": {},
   "source": [
    "# Net Cumulative Term Frequency and Net Document Frequency"
   ]
  },
  {
   "cell_type": "code",
   "execution_count": 19,
   "metadata": {},
   "outputs": [],
   "source": [
    "words_net_ctf_dict = {}\n",
    "words_net_df_dict = {}\n",
    "for k, v in words_true_ctf_dict.items():\n",
    "    words_net_ctf_dict[k] = words_net_ctf_dict.get(k,0) + words_true_ctf_dict[k]\n",
    "for k, v in words_fake_ctf_dict.items():\n",
    "    words_net_ctf_dict[k] = words_net_ctf_dict.get(k,0) - words_fake_ctf_dict[k]\n",
    "for k, v in words_true_df_dict.items():\n",
    "    words_net_df_dict[k] = words_net_df_dict.get(k,0) + words_true_df_dict[k]\n",
    "for k, v in words_fake_df_dict.items():\n",
    "    words_net_df_dict[k] = words_net_df_dict.get(k,0) - words_fake_df_dict[k]\n",
    "des_nctf_lst = [(k, v) for k, v in words_net_ctf_dict.items()][:35]\n",
    "des_nctf_lst.sort(key = lambda x:x[1], reverse = True)\n",
    "des_ndf_lst = [(k, v) for k, v in words_net_df_dict.items()][:35]\n",
    "des_ndf_lst.sort(key = lambda x:x[1], reverse = True)\n",
    "des_net_ctf = pd.DataFrame({'Word': [k for (k,v) in des_nctf_lst], 'Net Cumulative Term Frequency': [v for (k,v) in des_nctf_lst], 'Net Document Frequency': [words_net_df_dict[k] for (k,v) in des_nctf_lst]})\n",
    "des_net_df = pd.DataFrame({'Word': [k for (k,v) in des_ndf_lst], 'Net Cumulative Term Frequency': [words_net_ctf_dict[k] for (k,v) in des_ndf_lst], 'Net Document Frequency': [v for (k,v) in des_ndf_lst]})"
   ]
  },
  {
   "cell_type": "code",
   "execution_count": 20,
   "metadata": {},
   "outputs": [
    {
     "name": "stdout",
     "output_type": "stream",
     "text": [
      "The Net cumulative Term Frequency in Descending Order is given by:\n"
     ]
    },
    {
     "data": {
      "text/html": [
       "<style  type=\"text/css\" >\n",
       "</style><table id=\"T_5d2bf664_899d_11eb_8c76_ccaf78d01446\" ><thead>    <tr>        <th class=\"col_heading level0 col0\" >Word</th>        <th class=\"col_heading level0 col1\" >Net Cumulative Term Frequency</th>        <th class=\"col_heading level0 col2\" >Net Document Frequency</th>    </tr></thead><tbody>\n",
       "                <tr>\n",
       "                                <td id=\"T_5d2bf664_899d_11eb_8c76_ccaf78d01446row0_col0\" class=\"data row0 col0\" >pretti</td>\n",
       "                        <td id=\"T_5d2bf664_899d_11eb_8c76_ccaf78d01446row0_col1\" class=\"data row0 col1\" >1.000000</td>\n",
       "                        <td id=\"T_5d2bf664_899d_11eb_8c76_ccaf78d01446row0_col2\" class=\"data row0 col2\" >0.500000</td>\n",
       "            </tr>\n",
       "            <tr>\n",
       "                                <td id=\"T_5d2bf664_899d_11eb_8c76_ccaf78d01446row1_col0\" class=\"data row1 col0\" >handsom</td>\n",
       "                        <td id=\"T_5d2bf664_899d_11eb_8c76_ccaf78d01446row1_col1\" class=\"data row1 col1\" >1.000000</td>\n",
       "                        <td id=\"T_5d2bf664_899d_11eb_8c76_ccaf78d01446row1_col2\" class=\"data row1 col2\" >0.500000</td>\n",
       "            </tr>\n",
       "            <tr>\n",
       "                                <td id=\"T_5d2bf664_899d_11eb_8c76_ccaf78d01446row2_col0\" class=\"data row2 col0\" >sister</td>\n",
       "                        <td id=\"T_5d2bf664_899d_11eb_8c76_ccaf78d01446row2_col1\" class=\"data row2 col1\" >0.500000</td>\n",
       "                        <td id=\"T_5d2bf664_899d_11eb_8c76_ccaf78d01446row2_col2\" class=\"data row2 col2\" >0.250000</td>\n",
       "            </tr>\n",
       "            <tr>\n",
       "                                <td id=\"T_5d2bf664_899d_11eb_8c76_ccaf78d01446row3_col0\" class=\"data row3 col0\" >mother</td>\n",
       "                        <td id=\"T_5d2bf664_899d_11eb_8c76_ccaf78d01446row3_col1\" class=\"data row3 col1\" >0.500000</td>\n",
       "                        <td id=\"T_5d2bf664_899d_11eb_8c76_ccaf78d01446row3_col2\" class=\"data row3 col2\" >0.250000</td>\n",
       "            </tr>\n",
       "            <tr>\n",
       "                                <td id=\"T_5d2bf664_899d_11eb_8c76_ccaf78d01446row4_col0\" class=\"data row4 col0\" >father</td>\n",
       "                        <td id=\"T_5d2bf664_899d_11eb_8c76_ccaf78d01446row4_col1\" class=\"data row4 col1\" >0.500000</td>\n",
       "                        <td id=\"T_5d2bf664_899d_11eb_8c76_ccaf78d01446row4_col2\" class=\"data row4 col2\" >0.250000</td>\n",
       "            </tr>\n",
       "            <tr>\n",
       "                                <td id=\"T_5d2bf664_899d_11eb_8c76_ccaf78d01446row5_col0\" class=\"data row5 col0\" >brother</td>\n",
       "                        <td id=\"T_5d2bf664_899d_11eb_8c76_ccaf78d01446row5_col1\" class=\"data row5 col1\" >0.500000</td>\n",
       "                        <td id=\"T_5d2bf664_899d_11eb_8c76_ccaf78d01446row5_col2\" class=\"data row5 col2\" >0.250000</td>\n",
       "            </tr>\n",
       "            <tr>\n",
       "                                <td id=\"T_5d2bf664_899d_11eb_8c76_ccaf78d01446row6_col0\" class=\"data row6 col0\" >girl</td>\n",
       "                        <td id=\"T_5d2bf664_899d_11eb_8c76_ccaf78d01446row6_col1\" class=\"data row6 col1\" >-0.500000</td>\n",
       "                        <td id=\"T_5d2bf664_899d_11eb_8c76_ccaf78d01446row6_col2\" class=\"data row6 col2\" >-0.166667</td>\n",
       "            </tr>\n",
       "            <tr>\n",
       "                                <td id=\"T_5d2bf664_899d_11eb_8c76_ccaf78d01446row7_col0\" class=\"data row7 col0\" >entiti</td>\n",
       "                        <td id=\"T_5d2bf664_899d_11eb_8c76_ccaf78d01446row7_col1\" class=\"data row7 col1\" >-0.500000</td>\n",
       "                        <td id=\"T_5d2bf664_899d_11eb_8c76_ccaf78d01446row7_col2\" class=\"data row7 col2\" >-0.166667</td>\n",
       "            </tr>\n",
       "            <tr>\n",
       "                                <td id=\"T_5d2bf664_899d_11eb_8c76_ccaf78d01446row8_col0\" class=\"data row8 col0\" >proud</td>\n",
       "                        <td id=\"T_5d2bf664_899d_11eb_8c76_ccaf78d01446row8_col1\" class=\"data row8 col1\" >-0.500000</td>\n",
       "                        <td id=\"T_5d2bf664_899d_11eb_8c76_ccaf78d01446row8_col2\" class=\"data row8 col2\" >-0.166667</td>\n",
       "            </tr>\n",
       "            <tr>\n",
       "                                <td id=\"T_5d2bf664_899d_11eb_8c76_ccaf78d01446row9_col0\" class=\"data row9 col0\" >nation</td>\n",
       "                        <td id=\"T_5d2bf664_899d_11eb_8c76_ccaf78d01446row9_col1\" class=\"data row9 col1\" >-0.500000</td>\n",
       "                        <td id=\"T_5d2bf664_899d_11eb_8c76_ccaf78d01446row9_col2\" class=\"data row9 col2\" >-0.166667</td>\n",
       "            </tr>\n",
       "            <tr>\n",
       "                                <td id=\"T_5d2bf664_899d_11eb_8c76_ccaf78d01446row10_col0\" class=\"data row10 col0\" >boy</td>\n",
       "                        <td id=\"T_5d2bf664_899d_11eb_8c76_ccaf78d01446row10_col1\" class=\"data row10 col1\" >-1.000000</td>\n",
       "                        <td id=\"T_5d2bf664_899d_11eb_8c76_ccaf78d01446row10_col2\" class=\"data row10 col2\" >-0.333333</td>\n",
       "            </tr>\n",
       "            <tr>\n",
       "                                <td id=\"T_5d2bf664_899d_11eb_8c76_ccaf78d01446row11_col0\" class=\"data row11 col0\" >strong</td>\n",
       "                        <td id=\"T_5d2bf664_899d_11eb_8c76_ccaf78d01446row11_col1\" class=\"data row11 col1\" >-1.000000</td>\n",
       "                        <td id=\"T_5d2bf664_899d_11eb_8c76_ccaf78d01446row11_col2\" class=\"data row11 col2\" >-0.333333</td>\n",
       "            </tr>\n",
       "            <tr>\n",
       "                                <td id=\"T_5d2bf664_899d_11eb_8c76_ccaf78d01446row12_col0\" class=\"data row12 col0\" >weak</td>\n",
       "                        <td id=\"T_5d2bf664_899d_11eb_8c76_ccaf78d01446row12_col1\" class=\"data row12 col1\" >-1.000000</td>\n",
       "                        <td id=\"T_5d2bf664_899d_11eb_8c76_ccaf78d01446row12_col2\" class=\"data row12 col2\" >-0.333333</td>\n",
       "            </tr>\n",
       "    </tbody></table>"
      ],
      "text/plain": [
       "<pandas.io.formats.style.Styler at 0x1daabc62648>"
      ]
     },
     "execution_count": 20,
     "metadata": {},
     "output_type": "execute_result"
    }
   ],
   "source": [
    "print(\"The Net cumulative Term Frequency in Descending Order is given by:\")\n",
    "des_net_ctf.style.hide_index()"
   ]
  },
  {
   "cell_type": "code",
   "execution_count": 21,
   "metadata": {},
   "outputs": [
    {
     "name": "stdout",
     "output_type": "stream",
     "text": [
      "The Net Document Frequency in Descending Order is given by:\n"
     ]
    },
    {
     "data": {
      "text/html": [
       "<style  type=\"text/css\" >\n",
       "</style><table id=\"T_5d4874d2_899d_11eb_8797_ccaf78d01446\" ><thead>    <tr>        <th class=\"col_heading level0 col0\" >Word</th>        <th class=\"col_heading level0 col1\" >Net Cumulative Term Frequency</th>        <th class=\"col_heading level0 col2\" >Net Document Frequency</th>    </tr></thead><tbody>\n",
       "                <tr>\n",
       "                                <td id=\"T_5d4874d2_899d_11eb_8797_ccaf78d01446row0_col0\" class=\"data row0 col0\" >pretti</td>\n",
       "                        <td id=\"T_5d4874d2_899d_11eb_8797_ccaf78d01446row0_col1\" class=\"data row0 col1\" >1.000000</td>\n",
       "                        <td id=\"T_5d4874d2_899d_11eb_8797_ccaf78d01446row0_col2\" class=\"data row0 col2\" >0.500000</td>\n",
       "            </tr>\n",
       "            <tr>\n",
       "                                <td id=\"T_5d4874d2_899d_11eb_8797_ccaf78d01446row1_col0\" class=\"data row1 col0\" >handsom</td>\n",
       "                        <td id=\"T_5d4874d2_899d_11eb_8797_ccaf78d01446row1_col1\" class=\"data row1 col1\" >1.000000</td>\n",
       "                        <td id=\"T_5d4874d2_899d_11eb_8797_ccaf78d01446row1_col2\" class=\"data row1 col2\" >0.500000</td>\n",
       "            </tr>\n",
       "            <tr>\n",
       "                                <td id=\"T_5d4874d2_899d_11eb_8797_ccaf78d01446row2_col0\" class=\"data row2 col0\" >sister</td>\n",
       "                        <td id=\"T_5d4874d2_899d_11eb_8797_ccaf78d01446row2_col1\" class=\"data row2 col1\" >0.500000</td>\n",
       "                        <td id=\"T_5d4874d2_899d_11eb_8797_ccaf78d01446row2_col2\" class=\"data row2 col2\" >0.250000</td>\n",
       "            </tr>\n",
       "            <tr>\n",
       "                                <td id=\"T_5d4874d2_899d_11eb_8797_ccaf78d01446row3_col0\" class=\"data row3 col0\" >mother</td>\n",
       "                        <td id=\"T_5d4874d2_899d_11eb_8797_ccaf78d01446row3_col1\" class=\"data row3 col1\" >0.500000</td>\n",
       "                        <td id=\"T_5d4874d2_899d_11eb_8797_ccaf78d01446row3_col2\" class=\"data row3 col2\" >0.250000</td>\n",
       "            </tr>\n",
       "            <tr>\n",
       "                                <td id=\"T_5d4874d2_899d_11eb_8797_ccaf78d01446row4_col0\" class=\"data row4 col0\" >father</td>\n",
       "                        <td id=\"T_5d4874d2_899d_11eb_8797_ccaf78d01446row4_col1\" class=\"data row4 col1\" >0.500000</td>\n",
       "                        <td id=\"T_5d4874d2_899d_11eb_8797_ccaf78d01446row4_col2\" class=\"data row4 col2\" >0.250000</td>\n",
       "            </tr>\n",
       "            <tr>\n",
       "                                <td id=\"T_5d4874d2_899d_11eb_8797_ccaf78d01446row5_col0\" class=\"data row5 col0\" >brother</td>\n",
       "                        <td id=\"T_5d4874d2_899d_11eb_8797_ccaf78d01446row5_col1\" class=\"data row5 col1\" >0.500000</td>\n",
       "                        <td id=\"T_5d4874d2_899d_11eb_8797_ccaf78d01446row5_col2\" class=\"data row5 col2\" >0.250000</td>\n",
       "            </tr>\n",
       "            <tr>\n",
       "                                <td id=\"T_5d4874d2_899d_11eb_8797_ccaf78d01446row6_col0\" class=\"data row6 col0\" >girl</td>\n",
       "                        <td id=\"T_5d4874d2_899d_11eb_8797_ccaf78d01446row6_col1\" class=\"data row6 col1\" >-0.500000</td>\n",
       "                        <td id=\"T_5d4874d2_899d_11eb_8797_ccaf78d01446row6_col2\" class=\"data row6 col2\" >-0.166667</td>\n",
       "            </tr>\n",
       "            <tr>\n",
       "                                <td id=\"T_5d4874d2_899d_11eb_8797_ccaf78d01446row7_col0\" class=\"data row7 col0\" >entiti</td>\n",
       "                        <td id=\"T_5d4874d2_899d_11eb_8797_ccaf78d01446row7_col1\" class=\"data row7 col1\" >-0.500000</td>\n",
       "                        <td id=\"T_5d4874d2_899d_11eb_8797_ccaf78d01446row7_col2\" class=\"data row7 col2\" >-0.166667</td>\n",
       "            </tr>\n",
       "            <tr>\n",
       "                                <td id=\"T_5d4874d2_899d_11eb_8797_ccaf78d01446row8_col0\" class=\"data row8 col0\" >proud</td>\n",
       "                        <td id=\"T_5d4874d2_899d_11eb_8797_ccaf78d01446row8_col1\" class=\"data row8 col1\" >-0.500000</td>\n",
       "                        <td id=\"T_5d4874d2_899d_11eb_8797_ccaf78d01446row8_col2\" class=\"data row8 col2\" >-0.166667</td>\n",
       "            </tr>\n",
       "            <tr>\n",
       "                                <td id=\"T_5d4874d2_899d_11eb_8797_ccaf78d01446row9_col0\" class=\"data row9 col0\" >nation</td>\n",
       "                        <td id=\"T_5d4874d2_899d_11eb_8797_ccaf78d01446row9_col1\" class=\"data row9 col1\" >-0.500000</td>\n",
       "                        <td id=\"T_5d4874d2_899d_11eb_8797_ccaf78d01446row9_col2\" class=\"data row9 col2\" >-0.166667</td>\n",
       "            </tr>\n",
       "            <tr>\n",
       "                                <td id=\"T_5d4874d2_899d_11eb_8797_ccaf78d01446row10_col0\" class=\"data row10 col0\" >boy</td>\n",
       "                        <td id=\"T_5d4874d2_899d_11eb_8797_ccaf78d01446row10_col1\" class=\"data row10 col1\" >-1.000000</td>\n",
       "                        <td id=\"T_5d4874d2_899d_11eb_8797_ccaf78d01446row10_col2\" class=\"data row10 col2\" >-0.333333</td>\n",
       "            </tr>\n",
       "            <tr>\n",
       "                                <td id=\"T_5d4874d2_899d_11eb_8797_ccaf78d01446row11_col0\" class=\"data row11 col0\" >strong</td>\n",
       "                        <td id=\"T_5d4874d2_899d_11eb_8797_ccaf78d01446row11_col1\" class=\"data row11 col1\" >-1.000000</td>\n",
       "                        <td id=\"T_5d4874d2_899d_11eb_8797_ccaf78d01446row11_col2\" class=\"data row11 col2\" >-0.333333</td>\n",
       "            </tr>\n",
       "            <tr>\n",
       "                                <td id=\"T_5d4874d2_899d_11eb_8797_ccaf78d01446row12_col0\" class=\"data row12 col0\" >weak</td>\n",
       "                        <td id=\"T_5d4874d2_899d_11eb_8797_ccaf78d01446row12_col1\" class=\"data row12 col1\" >-1.000000</td>\n",
       "                        <td id=\"T_5d4874d2_899d_11eb_8797_ccaf78d01446row12_col2\" class=\"data row12 col2\" >-0.333333</td>\n",
       "            </tr>\n",
       "    </tbody></table>"
      ],
      "text/plain": [
       "<pandas.io.formats.style.Styler at 0x1daabca6fc8>"
      ]
     },
     "execution_count": 21,
     "metadata": {},
     "output_type": "execute_result"
    }
   ],
   "source": [
    "print(\"The Net Document Frequency in Descending Order is given by:\")\n",
    "des_net_df.style.hide_index()"
   ]
  },
  {
   "cell_type": "code",
   "execution_count": 22,
   "metadata": {},
   "outputs": [],
   "source": [
    "asc_nctf_lst = [(k, v) for k, v in words_net_ctf_dict.items()][-35:]\n",
    "asc_nctf_lst.sort(key = lambda x:x[1], reverse = True)\n",
    "asc_ndf_lst = [(k, v) for k, v in words_net_df_dict.items()][-35:]\n",
    "asc_ndf_lst.sort(key = lambda x:x[1], reverse = True)\n",
    "asc_net_ctf = pd.DataFrame({'Word': [k for (k,v) in asc_nctf_lst], 'Net Cumulative Term Frequency': [v for (k,v) in asc_nctf_lst], 'Net Document Frequency': [words_net_df_dict[k] for (k,v) in asc_nctf_lst]})\n",
    "asc_net_df = pd.DataFrame({'Word': [k for (k,v) in asc_ndf_lst], 'Net Cumulative Term Frequency': [words_net_ctf_dict[k] for (k,v) in asc_ndf_lst], 'Net Document Frequency': [v for (k,v) in asc_ndf_lst]})"
   ]
  },
  {
   "cell_type": "code",
   "execution_count": 23,
   "metadata": {},
   "outputs": [
    {
     "name": "stdout",
     "output_type": "stream",
     "text": [
      "The Net cumulative Term Frequency in Ascending Order is given by:\n"
     ]
    },
    {
     "data": {
      "text/html": [
       "<style  type=\"text/css\" >\n",
       "</style><table id=\"T_5d7bc6ee_899d_11eb_9987_ccaf78d01446\" ><thead>    <tr>        <th class=\"col_heading level0 col0\" >Word</th>        <th class=\"col_heading level0 col1\" >Net Cumulative Term Frequency</th>        <th class=\"col_heading level0 col2\" >Net Document Frequency</th>    </tr></thead><tbody>\n",
       "                <tr>\n",
       "                                <td id=\"T_5d7bc6ee_899d_11eb_9987_ccaf78d01446row0_col0\" class=\"data row0 col0\" >pretti</td>\n",
       "                        <td id=\"T_5d7bc6ee_899d_11eb_9987_ccaf78d01446row0_col1\" class=\"data row0 col1\" >1.000000</td>\n",
       "                        <td id=\"T_5d7bc6ee_899d_11eb_9987_ccaf78d01446row0_col2\" class=\"data row0 col2\" >0.500000</td>\n",
       "            </tr>\n",
       "            <tr>\n",
       "                                <td id=\"T_5d7bc6ee_899d_11eb_9987_ccaf78d01446row1_col0\" class=\"data row1 col0\" >handsom</td>\n",
       "                        <td id=\"T_5d7bc6ee_899d_11eb_9987_ccaf78d01446row1_col1\" class=\"data row1 col1\" >1.000000</td>\n",
       "                        <td id=\"T_5d7bc6ee_899d_11eb_9987_ccaf78d01446row1_col2\" class=\"data row1 col2\" >0.500000</td>\n",
       "            </tr>\n",
       "            <tr>\n",
       "                                <td id=\"T_5d7bc6ee_899d_11eb_9987_ccaf78d01446row2_col0\" class=\"data row2 col0\" >sister</td>\n",
       "                        <td id=\"T_5d7bc6ee_899d_11eb_9987_ccaf78d01446row2_col1\" class=\"data row2 col1\" >0.500000</td>\n",
       "                        <td id=\"T_5d7bc6ee_899d_11eb_9987_ccaf78d01446row2_col2\" class=\"data row2 col2\" >0.250000</td>\n",
       "            </tr>\n",
       "            <tr>\n",
       "                                <td id=\"T_5d7bc6ee_899d_11eb_9987_ccaf78d01446row3_col0\" class=\"data row3 col0\" >mother</td>\n",
       "                        <td id=\"T_5d7bc6ee_899d_11eb_9987_ccaf78d01446row3_col1\" class=\"data row3 col1\" >0.500000</td>\n",
       "                        <td id=\"T_5d7bc6ee_899d_11eb_9987_ccaf78d01446row3_col2\" class=\"data row3 col2\" >0.250000</td>\n",
       "            </tr>\n",
       "            <tr>\n",
       "                                <td id=\"T_5d7bc6ee_899d_11eb_9987_ccaf78d01446row4_col0\" class=\"data row4 col0\" >father</td>\n",
       "                        <td id=\"T_5d7bc6ee_899d_11eb_9987_ccaf78d01446row4_col1\" class=\"data row4 col1\" >0.500000</td>\n",
       "                        <td id=\"T_5d7bc6ee_899d_11eb_9987_ccaf78d01446row4_col2\" class=\"data row4 col2\" >0.250000</td>\n",
       "            </tr>\n",
       "            <tr>\n",
       "                                <td id=\"T_5d7bc6ee_899d_11eb_9987_ccaf78d01446row5_col0\" class=\"data row5 col0\" >brother</td>\n",
       "                        <td id=\"T_5d7bc6ee_899d_11eb_9987_ccaf78d01446row5_col1\" class=\"data row5 col1\" >0.500000</td>\n",
       "                        <td id=\"T_5d7bc6ee_899d_11eb_9987_ccaf78d01446row5_col2\" class=\"data row5 col2\" >0.250000</td>\n",
       "            </tr>\n",
       "            <tr>\n",
       "                                <td id=\"T_5d7bc6ee_899d_11eb_9987_ccaf78d01446row6_col0\" class=\"data row6 col0\" >girl</td>\n",
       "                        <td id=\"T_5d7bc6ee_899d_11eb_9987_ccaf78d01446row6_col1\" class=\"data row6 col1\" >-0.500000</td>\n",
       "                        <td id=\"T_5d7bc6ee_899d_11eb_9987_ccaf78d01446row6_col2\" class=\"data row6 col2\" >-0.166667</td>\n",
       "            </tr>\n",
       "            <tr>\n",
       "                                <td id=\"T_5d7bc6ee_899d_11eb_9987_ccaf78d01446row7_col0\" class=\"data row7 col0\" >entiti</td>\n",
       "                        <td id=\"T_5d7bc6ee_899d_11eb_9987_ccaf78d01446row7_col1\" class=\"data row7 col1\" >-0.500000</td>\n",
       "                        <td id=\"T_5d7bc6ee_899d_11eb_9987_ccaf78d01446row7_col2\" class=\"data row7 col2\" >-0.166667</td>\n",
       "            </tr>\n",
       "            <tr>\n",
       "                                <td id=\"T_5d7bc6ee_899d_11eb_9987_ccaf78d01446row8_col0\" class=\"data row8 col0\" >proud</td>\n",
       "                        <td id=\"T_5d7bc6ee_899d_11eb_9987_ccaf78d01446row8_col1\" class=\"data row8 col1\" >-0.500000</td>\n",
       "                        <td id=\"T_5d7bc6ee_899d_11eb_9987_ccaf78d01446row8_col2\" class=\"data row8 col2\" >-0.166667</td>\n",
       "            </tr>\n",
       "            <tr>\n",
       "                                <td id=\"T_5d7bc6ee_899d_11eb_9987_ccaf78d01446row9_col0\" class=\"data row9 col0\" >nation</td>\n",
       "                        <td id=\"T_5d7bc6ee_899d_11eb_9987_ccaf78d01446row9_col1\" class=\"data row9 col1\" >-0.500000</td>\n",
       "                        <td id=\"T_5d7bc6ee_899d_11eb_9987_ccaf78d01446row9_col2\" class=\"data row9 col2\" >-0.166667</td>\n",
       "            </tr>\n",
       "            <tr>\n",
       "                                <td id=\"T_5d7bc6ee_899d_11eb_9987_ccaf78d01446row10_col0\" class=\"data row10 col0\" >boy</td>\n",
       "                        <td id=\"T_5d7bc6ee_899d_11eb_9987_ccaf78d01446row10_col1\" class=\"data row10 col1\" >-1.000000</td>\n",
       "                        <td id=\"T_5d7bc6ee_899d_11eb_9987_ccaf78d01446row10_col2\" class=\"data row10 col2\" >-0.333333</td>\n",
       "            </tr>\n",
       "            <tr>\n",
       "                                <td id=\"T_5d7bc6ee_899d_11eb_9987_ccaf78d01446row11_col0\" class=\"data row11 col0\" >strong</td>\n",
       "                        <td id=\"T_5d7bc6ee_899d_11eb_9987_ccaf78d01446row11_col1\" class=\"data row11 col1\" >-1.000000</td>\n",
       "                        <td id=\"T_5d7bc6ee_899d_11eb_9987_ccaf78d01446row11_col2\" class=\"data row11 col2\" >-0.333333</td>\n",
       "            </tr>\n",
       "            <tr>\n",
       "                                <td id=\"T_5d7bc6ee_899d_11eb_9987_ccaf78d01446row12_col0\" class=\"data row12 col0\" >weak</td>\n",
       "                        <td id=\"T_5d7bc6ee_899d_11eb_9987_ccaf78d01446row12_col1\" class=\"data row12 col1\" >-1.000000</td>\n",
       "                        <td id=\"T_5d7bc6ee_899d_11eb_9987_ccaf78d01446row12_col2\" class=\"data row12 col2\" >-0.333333</td>\n",
       "            </tr>\n",
       "    </tbody></table>"
      ],
      "text/plain": [
       "<pandas.io.formats.style.Styler at 0x1daabc340c8>"
      ]
     },
     "execution_count": 23,
     "metadata": {},
     "output_type": "execute_result"
    }
   ],
   "source": [
    "print(\"The Net cumulative Term Frequency in Ascending Order is given by:\")\n",
    "asc_net_ctf.style.hide_index()"
   ]
  },
  {
   "cell_type": "code",
   "execution_count": 24,
   "metadata": {},
   "outputs": [
    {
     "name": "stdout",
     "output_type": "stream",
     "text": [
      "The Net Document Frequency in Ascending Order is given by:\n"
     ]
    },
    {
     "data": {
      "text/html": [
       "<style  type=\"text/css\" >\n",
       "</style><table id=\"T_5d94a5ae_899d_11eb_9aa7_ccaf78d01446\" ><thead>    <tr>        <th class=\"col_heading level0 col0\" >Word</th>        <th class=\"col_heading level0 col1\" >Net Cumulative Term Frequency</th>        <th class=\"col_heading level0 col2\" >Net Document Frequency</th>    </tr></thead><tbody>\n",
       "                <tr>\n",
       "                                <td id=\"T_5d94a5ae_899d_11eb_9aa7_ccaf78d01446row0_col0\" class=\"data row0 col0\" >pretti</td>\n",
       "                        <td id=\"T_5d94a5ae_899d_11eb_9aa7_ccaf78d01446row0_col1\" class=\"data row0 col1\" >1.000000</td>\n",
       "                        <td id=\"T_5d94a5ae_899d_11eb_9aa7_ccaf78d01446row0_col2\" class=\"data row0 col2\" >0.500000</td>\n",
       "            </tr>\n",
       "            <tr>\n",
       "                                <td id=\"T_5d94a5ae_899d_11eb_9aa7_ccaf78d01446row1_col0\" class=\"data row1 col0\" >handsom</td>\n",
       "                        <td id=\"T_5d94a5ae_899d_11eb_9aa7_ccaf78d01446row1_col1\" class=\"data row1 col1\" >1.000000</td>\n",
       "                        <td id=\"T_5d94a5ae_899d_11eb_9aa7_ccaf78d01446row1_col2\" class=\"data row1 col2\" >0.500000</td>\n",
       "            </tr>\n",
       "            <tr>\n",
       "                                <td id=\"T_5d94a5ae_899d_11eb_9aa7_ccaf78d01446row2_col0\" class=\"data row2 col0\" >sister</td>\n",
       "                        <td id=\"T_5d94a5ae_899d_11eb_9aa7_ccaf78d01446row2_col1\" class=\"data row2 col1\" >0.500000</td>\n",
       "                        <td id=\"T_5d94a5ae_899d_11eb_9aa7_ccaf78d01446row2_col2\" class=\"data row2 col2\" >0.250000</td>\n",
       "            </tr>\n",
       "            <tr>\n",
       "                                <td id=\"T_5d94a5ae_899d_11eb_9aa7_ccaf78d01446row3_col0\" class=\"data row3 col0\" >mother</td>\n",
       "                        <td id=\"T_5d94a5ae_899d_11eb_9aa7_ccaf78d01446row3_col1\" class=\"data row3 col1\" >0.500000</td>\n",
       "                        <td id=\"T_5d94a5ae_899d_11eb_9aa7_ccaf78d01446row3_col2\" class=\"data row3 col2\" >0.250000</td>\n",
       "            </tr>\n",
       "            <tr>\n",
       "                                <td id=\"T_5d94a5ae_899d_11eb_9aa7_ccaf78d01446row4_col0\" class=\"data row4 col0\" >father</td>\n",
       "                        <td id=\"T_5d94a5ae_899d_11eb_9aa7_ccaf78d01446row4_col1\" class=\"data row4 col1\" >0.500000</td>\n",
       "                        <td id=\"T_5d94a5ae_899d_11eb_9aa7_ccaf78d01446row4_col2\" class=\"data row4 col2\" >0.250000</td>\n",
       "            </tr>\n",
       "            <tr>\n",
       "                                <td id=\"T_5d94a5ae_899d_11eb_9aa7_ccaf78d01446row5_col0\" class=\"data row5 col0\" >brother</td>\n",
       "                        <td id=\"T_5d94a5ae_899d_11eb_9aa7_ccaf78d01446row5_col1\" class=\"data row5 col1\" >0.500000</td>\n",
       "                        <td id=\"T_5d94a5ae_899d_11eb_9aa7_ccaf78d01446row5_col2\" class=\"data row5 col2\" >0.250000</td>\n",
       "            </tr>\n",
       "            <tr>\n",
       "                                <td id=\"T_5d94a5ae_899d_11eb_9aa7_ccaf78d01446row6_col0\" class=\"data row6 col0\" >girl</td>\n",
       "                        <td id=\"T_5d94a5ae_899d_11eb_9aa7_ccaf78d01446row6_col1\" class=\"data row6 col1\" >-0.500000</td>\n",
       "                        <td id=\"T_5d94a5ae_899d_11eb_9aa7_ccaf78d01446row6_col2\" class=\"data row6 col2\" >-0.166667</td>\n",
       "            </tr>\n",
       "            <tr>\n",
       "                                <td id=\"T_5d94a5ae_899d_11eb_9aa7_ccaf78d01446row7_col0\" class=\"data row7 col0\" >entiti</td>\n",
       "                        <td id=\"T_5d94a5ae_899d_11eb_9aa7_ccaf78d01446row7_col1\" class=\"data row7 col1\" >-0.500000</td>\n",
       "                        <td id=\"T_5d94a5ae_899d_11eb_9aa7_ccaf78d01446row7_col2\" class=\"data row7 col2\" >-0.166667</td>\n",
       "            </tr>\n",
       "            <tr>\n",
       "                                <td id=\"T_5d94a5ae_899d_11eb_9aa7_ccaf78d01446row8_col0\" class=\"data row8 col0\" >proud</td>\n",
       "                        <td id=\"T_5d94a5ae_899d_11eb_9aa7_ccaf78d01446row8_col1\" class=\"data row8 col1\" >-0.500000</td>\n",
       "                        <td id=\"T_5d94a5ae_899d_11eb_9aa7_ccaf78d01446row8_col2\" class=\"data row8 col2\" >-0.166667</td>\n",
       "            </tr>\n",
       "            <tr>\n",
       "                                <td id=\"T_5d94a5ae_899d_11eb_9aa7_ccaf78d01446row9_col0\" class=\"data row9 col0\" >nation</td>\n",
       "                        <td id=\"T_5d94a5ae_899d_11eb_9aa7_ccaf78d01446row9_col1\" class=\"data row9 col1\" >-0.500000</td>\n",
       "                        <td id=\"T_5d94a5ae_899d_11eb_9aa7_ccaf78d01446row9_col2\" class=\"data row9 col2\" >-0.166667</td>\n",
       "            </tr>\n",
       "            <tr>\n",
       "                                <td id=\"T_5d94a5ae_899d_11eb_9aa7_ccaf78d01446row10_col0\" class=\"data row10 col0\" >boy</td>\n",
       "                        <td id=\"T_5d94a5ae_899d_11eb_9aa7_ccaf78d01446row10_col1\" class=\"data row10 col1\" >-1.000000</td>\n",
       "                        <td id=\"T_5d94a5ae_899d_11eb_9aa7_ccaf78d01446row10_col2\" class=\"data row10 col2\" >-0.333333</td>\n",
       "            </tr>\n",
       "            <tr>\n",
       "                                <td id=\"T_5d94a5ae_899d_11eb_9aa7_ccaf78d01446row11_col0\" class=\"data row11 col0\" >strong</td>\n",
       "                        <td id=\"T_5d94a5ae_899d_11eb_9aa7_ccaf78d01446row11_col1\" class=\"data row11 col1\" >-1.000000</td>\n",
       "                        <td id=\"T_5d94a5ae_899d_11eb_9aa7_ccaf78d01446row11_col2\" class=\"data row11 col2\" >-0.333333</td>\n",
       "            </tr>\n",
       "            <tr>\n",
       "                                <td id=\"T_5d94a5ae_899d_11eb_9aa7_ccaf78d01446row12_col0\" class=\"data row12 col0\" >weak</td>\n",
       "                        <td id=\"T_5d94a5ae_899d_11eb_9aa7_ccaf78d01446row12_col1\" class=\"data row12 col1\" >-1.000000</td>\n",
       "                        <td id=\"T_5d94a5ae_899d_11eb_9aa7_ccaf78d01446row12_col2\" class=\"data row12 col2\" >-0.333333</td>\n",
       "            </tr>\n",
       "    </tbody></table>"
      ],
      "text/plain": [
       "<pandas.io.formats.style.Styler at 0x1daabc71888>"
      ]
     },
     "execution_count": 24,
     "metadata": {},
     "output_type": "execute_result"
    }
   ],
   "source": [
    "print(\"The Net Document Frequency in Ascending Order is given by:\")\n",
    "asc_net_df.style.hide_index()"
   ]
  }
 ],
 "metadata": {
  "kernelspec": {
   "display_name": "Python 3",
   "language": "python",
   "name": "python3"
  },
  "language_info": {
   "codemirror_mode": {
    "name": "ipython",
    "version": 3
   },
   "file_extension": ".py",
   "mimetype": "text/x-python",
   "name": "python",
   "nbconvert_exporter": "python",
   "pygments_lexer": "ipython3",
   "version": "3.7.6"
  }
 },
 "nbformat": 4,
 "nbformat_minor": 4
}
